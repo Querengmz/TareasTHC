{
  "cells": [
    {
      "cell_type": "markdown",
      "metadata": {
        "id": "view-in-github",
        "colab_type": "text"
      },
      "source": [
        "<a href=\"https://colab.research.google.com/github/Querengmz/TareasTHC/blob/main/Copia_de_Numpy.ipynb\" target=\"_parent\"><img src=\"https://colab.research.google.com/assets/colab-badge.svg\" alt=\"Open In Colab\"/></a>"
      ]
    },
    {
      "cell_type": "markdown",
      "id": "d572795c",
      "metadata": {
        "id": "d572795c"
      },
      "source": [
        "**Objetivo general**\n",
        "\n",
        "* Aprender los fundamentos de la biblioteca de Numpy\n",
        "\n",
        "**Objetivos particulares**\n",
        "\n",
        "* Entender el uso de los métodos de Numpy"
      ]
    },
    {
      "cell_type": "markdown",
      "id": "001e54d2",
      "metadata": {
        "id": "001e54d2"
      },
      "source": [
        "[**Regresa al notebook principal**](https://github.com/seismomat/HerramientasComputacionales/blob/main/TemarioDePython/Temario%20de%20Python.ipynb)"
      ]
    },
    {
      "cell_type": "markdown",
      "id": "b76ffc8a",
      "metadata": {
        "id": "b76ffc8a"
      },
      "source": [
        "<a name='c1'></a>\n",
        "\n",
        "## Contenido\n",
        "\n",
        "- [¿Qué es NumPy?](#1)\n",
        "    - [¿Por qué usar NumPy?](#1-1)\n",
        "    - [¿Por qué NumPy es más rápido que las listas?](#1-2)\n",
        "    - [Instalación de Numpy](#1-3)\n",
        "    - [Importando Numpy](#1-4)\n",
        "- [Crear un Objeto ndarray de NumPy](#2)\n",
        "    - [Arreglos 0-D](#2-1)\n",
        "    - [Arreglos 1-D](#2-2)\n",
        "    - [Arreglos 2-D](#2-3)\n",
        "    - [Arreglos 3-D](#2-4)\n",
        "    - [Checando las dimensiones de los arreglos](#2-5)\n",
        "    - [Arreglos de dimensión mayor](#2-6)\n",
        "- [Acceso a elementos](#3)\n",
        "    - [Arreglos 1-D](#3-1)\n",
        "    - [Arreglos 2-D](#3-2)\n",
        "    - [Arreglos 3-D](#3-3)\n",
        "- [Slicing](#4)\n",
        "    - [Arreglos 1-D](#4-1)\n",
        "        - [Paso](#4-1-1)\n",
        "    - [Arreglos 2-D](#4-2)\n",
        "- [Buscando en arreglos](#5)\n",
        "- [Filtrado](#6)"
      ]
    },
    {
      "cell_type": "markdown",
      "id": "269975e0",
      "metadata": {
        "id": "269975e0"
      },
      "source": [
        "<a name='1'></a>\n",
        "\n",
        "# ¿Qué es NumPy?\n",
        "[regresar al contenido](#c1)\n",
        "\n",
        "NumPy es una biblioteca de Python utilizada para trabajar con matrices.\n",
        "\n",
        "También tiene funciones para trabajar en el ámbito del álgebra lineal, la transformada de Fourier y las matrices.\n",
        "\n",
        "NumPy fue creado en 2005 por Travis Oliphant. Es un proyecto de código abierto y puedes utilizarlo libremente.\n",
        "\n",
        "NumPy significa \"Numerical Python\" (Python Numérico)."
      ]
    },
    {
      "cell_type": "code",
      "source": [
        "import numpy as np\n",
        "a= np.array([1,2,3,4]) #arreglo\n",
        "print(type(a))\n",
        "print(a)"
      ],
      "metadata": {
        "id": "cDNkouA7bc1Q",
        "outputId": "61b46bdd-7f04-4f70-ec75-d015df073e11",
        "colab": {
          "base_uri": "https://localhost:8080/"
        }
      },
      "id": "cDNkouA7bc1Q",
      "execution_count": null,
      "outputs": [
        {
          "output_type": "stream",
          "name": "stdout",
          "text": [
            "<class 'numpy.ndarray'>\n",
            "[1 2 3 4]\n"
          ]
        }
      ]
    },
    {
      "cell_type": "code",
      "source": [
        "dim_cero= np.array(1) #arreglo de dimension cero\n",
        "print(dim_cero)"
      ],
      "metadata": {
        "id": "FLO2xcBLdIb6",
        "outputId": "9d73231a-8689-4f56-9bac-423a7fddc116",
        "colab": {
          "base_uri": "https://localhost:8080/"
        }
      },
      "id": "FLO2xcBLdIb6",
      "execution_count": null,
      "outputs": [
        {
          "output_type": "stream",
          "name": "stdout",
          "text": [
            "1\n"
          ]
        }
      ]
    },
    {
      "cell_type": "code",
      "source": [
        "#Es de diferente dimension dependiendo de cuatos corchetes tenga\n",
        "dim_uno= np.array([2,3])#arreglo de dimension uno"
      ],
      "metadata": {
        "id": "sXjj--DKdhfJ"
      },
      "id": "sXjj--DKdhfJ",
      "execution_count": null,
      "outputs": []
    },
    {
      "cell_type": "code",
      "source": [
        "dim_dos= np.array([[1,2],[3,4]]) #arreglo de 2 dimensiones - matrices\n",
        "print(dim_dos)"
      ],
      "metadata": {
        "id": "O0PA3l-_d62Z",
        "outputId": "0ab6df98-32d0-4c67-fe5b-37a2a95cd4bf",
        "colab": {
          "base_uri": "https://localhost:8080/"
        }
      },
      "id": "O0PA3l-_d62Z",
      "execution_count": null,
      "outputs": [
        {
          "output_type": "stream",
          "name": "stdout",
          "text": [
            "[[1 2]\n",
            " [3 4]]\n"
          ]
        }
      ]
    },
    {
      "cell_type": "code",
      "source": [
        "dim_cero= np.array(1) #arreglo de dimension cero\n",
        "print(dim_cero.ndim)"
      ],
      "metadata": {
        "id": "6vVwDZNffkz6",
        "outputId": "61facb99-8794-43c7-85a4-6f3ae137dcb0",
        "colab": {
          "base_uri": "https://localhost:8080/"
        }
      },
      "id": "6vVwDZNffkz6",
      "execution_count": null,
      "outputs": [
        {
          "output_type": "stream",
          "name": "stdout",
          "text": [
            "0\n"
          ]
        }
      ]
    },
    {
      "cell_type": "code",
      "source": [
        "dim_uno= np.array([2,3])#arreglo de dimension uno\n",
        "dim_dos= np.array([[1,2],[3,4]])\n",
        "print(dim_uno.shape)\n",
        "print(dim_dos.shape)"
      ],
      "metadata": {
        "id": "Ai2FQay4f8xy",
        "outputId": "07e6110f-abb5-42a3-b324-54f0654c32a6",
        "colab": {
          "base_uri": "https://localhost:8080/"
        }
      },
      "id": "Ai2FQay4f8xy",
      "execution_count": null,
      "outputs": [
        {
          "output_type": "stream",
          "name": "stdout",
          "text": [
            "(2,)\n",
            "(2, 2)\n"
          ]
        }
      ]
    },
    {
      "cell_type": "code",
      "source": [
        "a= np.array([[1/2,1,3/4],[2,4,5]])\n",
        "print(a)"
      ],
      "metadata": {
        "id": "re_Igz_rgjCq",
        "outputId": "30bc3acf-8b4d-47a8-e7a3-f704c24ed6fe",
        "colab": {
          "base_uri": "https://localhost:8080/"
        }
      },
      "id": "re_Igz_rgjCq",
      "execution_count": null,
      "outputs": [
        {
          "output_type": "stream",
          "name": "stdout",
          "text": [
            "[[0.5  1.   0.75]\n",
            " [2.   4.   5.  ]]\n"
          ]
        }
      ]
    },
    {
      "cell_type": "code",
      "source": [
        "a= np.array([[1/2,1,3/4],[\"o\",1,0],[2,4,5]])\n",
        "print(a)"
      ],
      "metadata": {
        "id": "Zf0WsEvkhdJj",
        "outputId": "04b28f84-4d29-48a7-94f7-6955e894e428",
        "colab": {
          "base_uri": "https://localhost:8080/"
        }
      },
      "id": "Zf0WsEvkhdJj",
      "execution_count": null,
      "outputs": [
        {
          "output_type": "stream",
          "name": "stdout",
          "text": [
            "[['0.5' '1' '0.75']\n",
            " ['o' '1' '0']\n",
            " ['2' '4' '5']]\n"
          ]
        }
      ]
    },
    {
      "cell_type": "code",
      "source": [
        "import numpy as np\n",
        "a= np.array([[1,\"o\"],[0,0]])\n",
        "print(a)"
      ],
      "metadata": {
        "id": "0JriKQLNjIjy",
        "outputId": "3734a248-38d6-4fec-f96f-966b7acb8fed",
        "colab": {
          "base_uri": "https://localhost:8080/"
        }
      },
      "id": "0JriKQLNjIjy",
      "execution_count": null,
      "outputs": [
        {
          "output_type": "stream",
          "name": "stdout",
          "text": [
            "[['1' 'o']\n",
            " ['0' '0']]\n"
          ]
        }
      ]
    },
    {
      "cell_type": "code",
      "source": [
        "vec= np.array([2,0,-1,4,5])\n",
        "print(vec[-2])"
      ],
      "metadata": {
        "id": "orqEyskzkEJr",
        "outputId": "5a8e90f9-f927-4339-fde4-1fc30753a3e8",
        "colab": {
          "base_uri": "https://localhost:8080/"
        }
      },
      "id": "orqEyskzkEJr",
      "execution_count": null,
      "outputs": [
        {
          "output_type": "stream",
          "name": "stdout",
          "text": [
            "4\n"
          ]
        }
      ]
    },
    {
      "cell_type": "code",
      "source": [
        "vec= np.array([2,0,-1,4,5])\n",
        "print(vec[2:5])"
      ],
      "metadata": {
        "id": "1TwoKL2Qk93b",
        "outputId": "9cfff53a-ccb8-4adf-fa91-d1b119ec733f",
        "colab": {
          "base_uri": "https://localhost:8080/"
        }
      },
      "id": "1TwoKL2Qk93b",
      "execution_count": null,
      "outputs": [
        {
          "output_type": "stream",
          "name": "stdout",
          "text": [
            "[-1  4  5]\n"
          ]
        }
      ]
    },
    {
      "cell_type": "code",
      "source": [
        "vec=np.array([2,0,-1,4,5,6,7,8,9,10])\n",
        "print(vec)\n",
        "print(vec[1:10:2]) #1 donde empiezo, 10 hasta donde llego (10-1), 2 cada cuanto selecciono\n",
        "\n"
      ],
      "metadata": {
        "id": "dABu15konbes",
        "outputId": "2bba93ed-1496-4262-f973-a990bf44badb",
        "colab": {
          "base_uri": "https://localhost:8080/"
        }
      },
      "id": "dABu15konbes",
      "execution_count": null,
      "outputs": [
        {
          "output_type": "stream",
          "name": "stdout",
          "text": [
            "[ 2  0 -1  4  5  6  7  8  9 10]\n",
            "[ 0  4  6  8 10]\n"
          ]
        }
      ]
    },
    {
      "cell_type": "code",
      "source": [
        "mat=np.array([[1,2,3,4],[5,6,7,8],[9,10,11,12]])\n",
        "print(mat[0,1]) #acceder al 2\n",
        "print(mat[2,2]) #acceder al 11\n",
        "print(mat[1,3]) #acceder al 8\n",
        "print(mat[-1,-1])\n",
        "print(mat[:,1])\n",
        "print(mat[1,:])\n",
        "print(mat[1,1:4])\n",
        "print(mat[1:3,2])\n",
        "print(mat[1:3,1:3]) #1(izquerda) filas 3(derecha) columnas }\n",
        "print(mat[0:2,0:3])"
      ],
      "metadata": {
        "id": "PLilNVOYo0_z",
        "outputId": "492dbc62-a26a-4c86-9cf0-071ac5ff89ee",
        "colab": {
          "base_uri": "https://localhost:8080/"
        }
      },
      "id": "PLilNVOYo0_z",
      "execution_count": null,
      "outputs": [
        {
          "output_type": "stream",
          "name": "stdout",
          "text": [
            "2\n",
            "11\n",
            "8\n",
            "12\n",
            "[ 2  6 10]\n",
            "[5 6 7 8]\n",
            "[6 7 8]\n",
            "[ 7 11]\n",
            "[[ 6  7]\n",
            " [10 11]]\n",
            "[[1 2 3]\n",
            " [5 6 7]]\n"
          ]
        }
      ]
    },
    {
      "cell_type": "code",
      "source": [
        "print(mat+mat)"
      ],
      "metadata": {
        "id": "W0IhRVMiuMt8",
        "outputId": "94aaac68-3f46-4559-90e7-7422839b32c8",
        "colab": {
          "base_uri": "https://localhost:8080/"
        }
      },
      "id": "W0IhRVMiuMt8",
      "execution_count": null,
      "outputs": [
        {
          "output_type": "stream",
          "name": "stdout",
          "text": [
            "[[ 2  4  6  8]\n",
            " [10 12 14 16]\n",
            " [18 20 22 24]]\n"
          ]
        }
      ]
    },
    {
      "cell_type": "code",
      "source": [
        "a=np.array([1,2,3,4])\n",
        "b=np.array([4,5,6,7])\n",
        "for i in range(4):\n",
        "  sum+=\n",
        "print(a+b)\n",
        "print(a*b)"
      ],
      "metadata": {
        "id": "5M0AHlyytgdk",
        "outputId": "6e389d22-2694-4237-84dc-41e9cbf9c60b",
        "colab": {
          "base_uri": "https://localhost:8080/",
          "height": 211
        }
      },
      "id": "5M0AHlyytgdk",
      "execution_count": null,
      "outputs": [
        {
          "output_type": "error",
          "ename": "TypeError",
          "evalue": "unsupported operand type(s) for +: 'builtin_function_or_method' and 'int'",
          "traceback": [
            "\u001b[0;31m---------------------------------------------------------------------------\u001b[0m",
            "\u001b[0;31mTypeError\u001b[0m                                 Traceback (most recent call last)",
            "\u001b[0;32m<ipython-input-54-afab6233b73b>\u001b[0m in \u001b[0;36m<cell line: 3>\u001b[0;34m()\u001b[0m\n\u001b[1;32m      2\u001b[0m \u001b[0mb\u001b[0m\u001b[0;34m=\u001b[0m\u001b[0mnp\u001b[0m\u001b[0;34m.\u001b[0m\u001b[0marray\u001b[0m\u001b[0;34m(\u001b[0m\u001b[0;34m[\u001b[0m\u001b[0;36m4\u001b[0m\u001b[0;34m,\u001b[0m\u001b[0;36m5\u001b[0m\u001b[0;34m,\u001b[0m\u001b[0;36m6\u001b[0m\u001b[0;34m,\u001b[0m\u001b[0;36m7\u001b[0m\u001b[0;34m]\u001b[0m\u001b[0;34m)\u001b[0m\u001b[0;34m\u001b[0m\u001b[0;34m\u001b[0m\u001b[0m\n\u001b[1;32m      3\u001b[0m \u001b[0;32mfor\u001b[0m \u001b[0mi\u001b[0m \u001b[0;32min\u001b[0m \u001b[0mrange\u001b[0m\u001b[0;34m(\u001b[0m\u001b[0;36m4\u001b[0m\u001b[0;34m)\u001b[0m\u001b[0;34m:\u001b[0m\u001b[0;34m\u001b[0m\u001b[0;34m\u001b[0m\u001b[0m\n\u001b[0;32m----> 4\u001b[0;31m   \u001b[0msum\u001b[0m\u001b[0;34m+=\u001b[0m\u001b[0ma\u001b[0m\u001b[0;34m\u001b[0m\u001b[0;34m\u001b[0m\u001b[0m\n\u001b[0m\u001b[1;32m      5\u001b[0m \u001b[0mprint\u001b[0m\u001b[0;34m(\u001b[0m\u001b[0ma\u001b[0m\u001b[0;34m+\u001b[0m\u001b[0mb\u001b[0m\u001b[0;34m)\u001b[0m\u001b[0;34m\u001b[0m\u001b[0;34m\u001b[0m\u001b[0m\n\u001b[1;32m      6\u001b[0m \u001b[0mprint\u001b[0m\u001b[0;34m(\u001b[0m\u001b[0ma\u001b[0m\u001b[0;34m*\u001b[0m\u001b[0mb\u001b[0m\u001b[0;34m)\u001b[0m\u001b[0;34m\u001b[0m\u001b[0;34m\u001b[0m\u001b[0m\n",
            "\u001b[0;31mTypeError\u001b[0m: unsupported operand type(s) for +: 'builtin_function_or_method' and 'int'"
          ]
        }
      ]
    },
    {
      "cell_type": "markdown",
      "id": "fb9dfa06",
      "metadata": {
        "id": "fb9dfa06"
      },
      "source": [
        "<a name='1-1'></a>\n",
        "\n",
        "## ¿Por qué usar NumPy?\n",
        "[regresar al contenido](#c1)\n",
        "\n",
        "En Python, tenemos listas que cumplen la función de arrays, pero son lentas de procesar.\n",
        "\n",
        "NumPy tiene como objetivo proporcionar un objeto de array que sea hasta 50 veces más rápido que las listas tradicionales de Python.\n",
        "\n",
        "El objeto de array en NumPy se llama ndarray y proporciona muchas funciones de soporte que facilitan trabajar con ndarray.\n",
        "\n",
        "Los arrays se utilizan con mucha frecuencia en la ciencia de datos, donde la velocidad y los recursos son muy importantes."
      ]
    },
    {
      "cell_type": "markdown",
      "id": "afa98fb0",
      "metadata": {
        "id": "afa98fb0"
      },
      "source": [
        "<a name='1-2'></a>\n",
        "\n",
        "## ¿Por qué NumPy es más rápido que las listas?\n",
        "[regresar al contenido](#c1)\n",
        "\n",
        "Los arrays de NumPy se almacenan en un lugar continuo en la memoria, a diferencia de las listas, por lo que los procesos pueden acceder y manipularlos de manera muy eficiente.\n",
        "\n",
        "Este comportamiento se llama \"localidad de referencia\" en informática.\n",
        "\n",
        "Esta es la razón principal por la que NumPy es más rápido que las listas. Además, está optimizado para funcionar con las últimas arquitecturas de CPU."
      ]
    },
    {
      "cell_type": "markdown",
      "id": "1e4b0d87",
      "metadata": {
        "id": "1e4b0d87"
      },
      "source": [
        "<a name='1-3'></a>\n",
        "\n",
        "## Instalación de Numpy\n",
        "[regresar al contenido](#c1)\n",
        "\n",
        "> pip install numpy"
      ]
    },
    {
      "cell_type": "markdown",
      "id": "1afce1d8",
      "metadata": {
        "id": "1afce1d8"
      },
      "source": [
        "<a name='1-4'></a>\n",
        "\n",
        "## Importando Numpy\n",
        "[regresar al contenido](#c1)\n",
        "\n",
        "> import numpy\n",
        "\n",
        "o también se puede importar con algún alias\n",
        "\n",
        "> import numpy as np"
      ]
    },
    {
      "cell_type": "markdown",
      "id": "d003deb7",
      "metadata": {
        "id": "d003deb7"
      },
      "source": [
        "<a name='2'></a>\n",
        "\n",
        "# Crear un Objeto ndarray de NumPy\n",
        "[regresar al contenido](#c1)\n",
        "\n",
        "`NumPy` se utiliza para trabajar con arrays. El objeto de array en NumPy se llama ndarray.\n",
        "\n",
        "Podemos crear un objeto ndarray de NumPy utilizando la función `array()`."
      ]
    },
    {
      "cell_type": "code",
      "execution_count": null,
      "id": "a7c7c289",
      "metadata": {
        "id": "a7c7c289"
      },
      "outputs": [],
      "source": [
        "import numpy as np"
      ]
    },
    {
      "cell_type": "code",
      "execution_count": null,
      "id": "64fb5e5d",
      "metadata": {
        "id": "64fb5e5d",
        "outputId": "60373f6b-9be7-4c06-e2b3-eca37ee9ca4f",
        "colab": {
          "base_uri": "https://localhost:8080/"
        }
      },
      "outputs": [
        {
          "output_type": "stream",
          "name": "stdout",
          "text": [
            "[1 2 3 4 5]\n",
            "<class 'numpy.ndarray'>\n"
          ]
        }
      ],
      "source": [
        "arr = np.array([1, 2, 3, 4, 5])\n",
        "\n",
        "print(arr)\n",
        "\n",
        "print(type(arr))"
      ]
    },
    {
      "cell_type": "code",
      "execution_count": null,
      "id": "f0d7e5f2",
      "metadata": {
        "id": "f0d7e5f2",
        "outputId": "969adf68-d608-4e44-82ca-76c5f579377e",
        "colab": {
          "base_uri": "https://localhost:8080/"
        }
      },
      "outputs": [
        {
          "output_type": "stream",
          "name": "stdout",
          "text": [
            "[1 2 3 4 5]\n",
            "<class 'numpy.ndarray'>\n"
          ]
        }
      ],
      "source": [
        "arr1 = np.array((1, 2, 3, 4, 5))\n",
        "\n",
        "print(arr1)\n",
        "\n",
        "print(type(arr1))"
      ]
    },
    {
      "cell_type": "markdown",
      "id": "005406f1",
      "metadata": {
        "id": "005406f1"
      },
      "source": [
        "<a name='2-1'></a>\n",
        "\n",
        "## Arreglos 0-D\n",
        "[regresar al contenido](#c1)\n",
        "\n",
        "Los arrays 0-D, o escalares, son los elementos en un array. Cada valor en un array se considera un array 0-D en sí mismo. En otras palabras, un array puede contener múltiples escalares como sus elementos."
      ]
    },
    {
      "cell_type": "code",
      "execution_count": null,
      "id": "a7fb1469",
      "metadata": {
        "id": "a7fb1469",
        "outputId": "7f0dde42-d7bd-4351-eb9b-d84b83fc5e88",
        "colab": {
          "base_uri": "https://localhost:8080/"
        }
      },
      "outputs": [
        {
          "output_type": "stream",
          "name": "stdout",
          "text": [
            "42\n"
          ]
        }
      ],
      "source": [
        "arr = np.array(42)\n",
        "\n",
        "print(arr)"
      ]
    },
    {
      "cell_type": "markdown",
      "id": "404c4858",
      "metadata": {
        "id": "404c4858"
      },
      "source": [
        "<a name='2-2'></a>\n",
        "\n",
        "## Arreglos 1-D\n",
        "[regresar al contenido](#c1)\n",
        "\n",
        "Un array que tiene arrays 0-D (escalares) como sus elementos se llama array unidimensional o 1-D. En otras palabras, es un array que contiene valores individuales en lugar de secuencias de valores."
      ]
    },
    {
      "cell_type": "code",
      "execution_count": null,
      "id": "fe1699a4",
      "metadata": {
        "id": "fe1699a4",
        "outputId": "9f06da6d-c507-4f33-bf4b-caae6079b5ad",
        "colab": {
          "base_uri": "https://localhost:8080/"
        }
      },
      "outputs": [
        {
          "output_type": "stream",
          "name": "stdout",
          "text": [
            "[1 2 3 4 5]\n"
          ]
        }
      ],
      "source": [
        "arr = np.array([1, 2, 3, 4, 5])\n",
        "\n",
        "print(arr)"
      ]
    },
    {
      "cell_type": "markdown",
      "id": "35e019d4",
      "metadata": {
        "id": "35e019d4"
      },
      "source": [
        "<a name='2-3'></a>\n",
        "\n",
        "## Arreglos 2-D\n",
        "[regresar al contenido](#c1)\n",
        "\n",
        "Un array que tiene arrays 1-D como sus elementos se llama array 2-D.\n",
        "\n",
        "A menudo se utilizan para representar matrices o tensores de segundo orden."
      ]
    },
    {
      "cell_type": "code",
      "execution_count": null,
      "id": "374d7927",
      "metadata": {
        "id": "374d7927",
        "outputId": "cc092380-545b-4e17-f572-53b27c4d3e1a",
        "colab": {
          "base_uri": "https://localhost:8080/"
        }
      },
      "outputs": [
        {
          "output_type": "stream",
          "name": "stdout",
          "text": [
            "[[1 2 3]\n",
            " [4 5 6]]\n"
          ]
        }
      ],
      "source": [
        "arr = np.array([[1, 2, 3], [4, 5, 6]])\n",
        "\n",
        "print(arr)"
      ]
    },
    {
      "cell_type": "markdown",
      "id": "52fc994d",
      "metadata": {
        "id": "52fc994d"
      },
      "source": [
        "<a name='2-4'></a>\n",
        "\n",
        "## Arreglos 3-D\n",
        "[regresar al contenido](#c1)\n",
        "\n",
        "Un array que tiene matrices 2-D como sus elementos se llama array 3-D.\n",
        "\n",
        "A menudo se utilizan para representar un tensor de tercer orden."
      ]
    },
    {
      "cell_type": "code",
      "execution_count": null,
      "id": "eac0b498",
      "metadata": {
        "id": "eac0b498",
        "outputId": "ff5d6b7f-bef7-4422-b175-7f4e1912e0e5",
        "colab": {
          "base_uri": "https://localhost:8080/"
        }
      },
      "outputs": [
        {
          "output_type": "stream",
          "name": "stdout",
          "text": [
            "[[[1 2 3]\n",
            "  [4 5 6]]\n",
            "\n",
            " [[1 2 3]\n",
            "  [4 5 6]]]\n"
          ]
        }
      ],
      "source": [
        "arr = np.array([[[1, 2, 3], [4, 5, 6]], [[1, 2, 3], [4, 5, 6]]])\n",
        "\n",
        "print(arr)"
      ]
    },
    {
      "cell_type": "markdown",
      "id": "2e3ac2bd",
      "metadata": {
        "id": "2e3ac2bd"
      },
      "source": [
        "<a name='2-5'></a>\n",
        "\n",
        "## Checando las dimensiones de los arreglos\n",
        "[regresar al contenido](#c1)"
      ]
    },
    {
      "cell_type": "code",
      "execution_count": null,
      "id": "0d68b896",
      "metadata": {
        "id": "0d68b896",
        "outputId": "0f1e41e8-0b4f-494d-fff1-6bc0c2df9ca2",
        "colab": {
          "base_uri": "https://localhost:8080/"
        }
      },
      "outputs": [
        {
          "output_type": "stream",
          "name": "stdout",
          "text": [
            "0 ()\n",
            "1 (5,)\n",
            "2 (2, 3)\n",
            "3 (2, 2, 3)\n"
          ]
        }
      ],
      "source": [
        "a = np.array(42)\n",
        "b = np.array([1, 2, 3, 4, 5])\n",
        "c = np.array([[1, 2, 3], [4, 5, 6]])\n",
        "d = np.array([[[1, 2, 3], [4, 5, 6]], [[1, 2, 3], [4, 5, 6]]])\n",
        "\n",
        "print(a.ndim,a.shape)\n",
        "print(b.ndim,b.shape)\n",
        "print(c.ndim,c.shape)\n",
        "print(d.ndim,d.shape)"
      ]
    },
    {
      "cell_type": "markdown",
      "id": "309193c6",
      "metadata": {
        "id": "309193c6"
      },
      "source": [
        "<a name='2-6'></a>\n",
        "\n",
        "## Arreglos de dimensión mayor\n",
        "[regresar al contenido](#c1)"
      ]
    },
    {
      "cell_type": "code",
      "execution_count": null,
      "id": "a888e6be",
      "metadata": {
        "id": "a888e6be",
        "outputId": "11322915-ab95-495a-8d56-db49c04247a6",
        "colab": {
          "base_uri": "https://localhost:8080/"
        }
      },
      "outputs": [
        {
          "output_type": "stream",
          "name": "stdout",
          "text": [
            "[[[[[1 2 3 4]]]]]\n",
            "number of dimensions : 5\n"
          ]
        }
      ],
      "source": [
        "arr = np.array([1, 2, 3, 4], ndmin=5)\n",
        "\n",
        "print(arr)\n",
        "print('number of dimensions :', arr.ndim)"
      ]
    },
    {
      "cell_type": "markdown",
      "id": "334a05cf",
      "metadata": {
        "id": "334a05cf"
      },
      "source": [
        "<a name='3'></a>\n",
        "\n",
        "# Acceso a elementos\n",
        "[regresar al contenido](#c1)\n",
        "\n",
        "La indexación de arrays es similar a acceder a un elemento de un array.\n",
        "\n",
        "Puedes acceder a un elemento de un array haciendo referencia a su número de índice.\n",
        "\n",
        "Los índices en los arrays de NumPy comienzan en 0, lo que significa que el primer elemento tiene un índice 0, el segundo tiene un índice 1, y así sucesivamente."
      ]
    },
    {
      "cell_type": "markdown",
      "id": "871a1629",
      "metadata": {
        "id": "871a1629"
      },
      "source": [
        "<a name='3-1'></a>\n",
        "\n",
        "## Arreglos 1-D\n",
        "[regresar al contenido](#c1)"
      ]
    },
    {
      "cell_type": "code",
      "execution_count": null,
      "id": "a6c12ba3",
      "metadata": {
        "id": "a6c12ba3",
        "outputId": "dada50c9-4750-4366-e1b5-5d799bc16623",
        "colab": {
          "base_uri": "https://localhost:8080/"
        }
      },
      "outputs": [
        {
          "output_type": "stream",
          "name": "stdout",
          "text": [
            "1\n"
          ]
        }
      ],
      "source": [
        "arr = np.array([1, 2, 3, 4])\n",
        "\n",
        "print(arr[0])"
      ]
    },
    {
      "cell_type": "markdown",
      "id": "2c068b12",
      "metadata": {
        "id": "2c068b12"
      },
      "source": [
        "<a name='3-2'></a>\n",
        "\n",
        "## Arreglos 2-D\n",
        "[regresar al contenido](#c1)\n",
        "\n",
        "Para acceder a elementos de arrays 2-D, podemos usar enteros separados por comas que representan la dimensión y el índice del elemento.\n",
        "\n",
        "Piensa en los arrays 2-D como una tabla con filas y columnas, donde la dimensión representa la fila y el índice representa la columna."
      ]
    },
    {
      "cell_type": "code",
      "execution_count": null,
      "id": "022ca5d5",
      "metadata": {
        "id": "022ca5d5",
        "outputId": "720efbea-031e-4632-96a2-8fa5262012f2",
        "colab": {
          "base_uri": "https://localhost:8080/"
        }
      },
      "outputs": [
        {
          "output_type": "stream",
          "name": "stdout",
          "text": [
            "2do elemento de la 1er Fila:  2\n"
          ]
        }
      ],
      "source": [
        "arr = np.array([[1,2,3,4,5], [6,7,8,9,10]])\n",
        "\n",
        "print('2do elemento de la 1er Fila: ', arr[0, 1])"
      ]
    },
    {
      "cell_type": "code",
      "execution_count": null,
      "id": "d5da39b6",
      "metadata": {
        "id": "d5da39b6",
        "outputId": "f2c957f9-8b08-4ce5-c956-fba282d119b5",
        "colab": {
          "base_uri": "https://localhost:8080/"
        }
      },
      "outputs": [
        {
          "output_type": "stream",
          "name": "stdout",
          "text": [
            "Quinto elemento de la 2da Fila 10\n"
          ]
        }
      ],
      "source": [
        "print('Quinto elemento de la 2da Fila', arr[1, 4])"
      ]
    },
    {
      "cell_type": "markdown",
      "id": "fab1a880",
      "metadata": {
        "id": "fab1a880"
      },
      "source": [
        "<a name='3-3'></a>\n",
        "\n",
        "## Arreglos 3-D\n",
        "[regresar al contenido](#c1)\n",
        "\n",
        "Para acceder a elementos de arrays 3-D, podemos usar enteros separados por comas que representan las dimensiones y el índice del elemento. Esto implica especificar la coordenada en cada dimensión para llegar al elemento deseado en el array tridimensional."
      ]
    },
    {
      "cell_type": "code",
      "execution_count": null,
      "id": "5a5cf294",
      "metadata": {
        "id": "5a5cf294",
        "outputId": "2742e4b2-9955-4eb9-b27b-a953f026973d",
        "colab": {
          "base_uri": "https://localhost:8080/"
        }
      },
      "outputs": [
        {
          "output_type": "stream",
          "name": "stdout",
          "text": [
            "6\n"
          ]
        }
      ],
      "source": [
        "arr = np.array([[[1, 2, 3], [4, 5, 6]], [[7, 8, 9], [10, 11, 12]]])\n",
        "\n",
        "print(arr[0, 1, 2])"
      ]
    },
    {
      "cell_type": "markdown",
      "id": "8f298f2e",
      "metadata": {
        "id": "8f298f2e"
      },
      "source": [
        "<a name='4'></a>\n",
        "\n",
        "# Slicing\n",
        "[regresar al contenido](#c1)\n",
        "\n",
        "El slicing en Python significa tomar elementos desde un índice dado hasta otro índice dado.\n",
        "\n",
        "Pasamos el slice en lugar del índice de esta manera: `[inicio:fin]`.\n",
        "\n",
        "También podemos definir el paso, de esta manera: `[inicio:fin:paso]`.\n",
        "\n",
        "- Si no especificamos el inicio, se considera 0.\n",
        "- Si no especificamos el fin, se considera la longitud del array en esa dimensión.\n",
        "- Si no especificamos el paso, se considera 1."
      ]
    },
    {
      "cell_type": "markdown",
      "id": "e42a3bc8",
      "metadata": {
        "id": "e42a3bc8"
      },
      "source": [
        "<a name='4-1'></a>\n",
        "\n",
        "## Arreglos 1-D\n",
        "[regresar al contenido](#c1)"
      ]
    },
    {
      "cell_type": "code",
      "execution_count": null,
      "id": "d67dccf1",
      "metadata": {
        "id": "d67dccf1",
        "outputId": "f859fe7f-0b64-42e5-d39f-8e2584ed2d54",
        "colab": {
          "base_uri": "https://localhost:8080/"
        }
      },
      "outputs": [
        {
          "output_type": "stream",
          "name": "stdout",
          "text": [
            "[2 3 4 5]\n"
          ]
        }
      ],
      "source": [
        "arr = np.array([1, 2, 3, 4, 5, 6, 7])\n",
        "\n",
        "print(arr[1:5])"
      ]
    },
    {
      "cell_type": "code",
      "execution_count": null,
      "id": "28293789",
      "metadata": {
        "id": "28293789",
        "outputId": "8912ce2e-89ff-4f1b-a7ae-5ee4c8b40439",
        "colab": {
          "base_uri": "https://localhost:8080/"
        }
      },
      "outputs": [
        {
          "output_type": "stream",
          "name": "stdout",
          "text": [
            "[5 6 7]\n"
          ]
        }
      ],
      "source": [
        "print(arr[4:])"
      ]
    },
    {
      "cell_type": "code",
      "execution_count": null,
      "id": "cc141216",
      "metadata": {
        "id": "cc141216",
        "outputId": "a50a1c0e-ae42-46f1-af86-2361b2e072d0",
        "colab": {
          "base_uri": "https://localhost:8080/"
        }
      },
      "outputs": [
        {
          "output_type": "stream",
          "name": "stdout",
          "text": [
            "[1 2 3 4]\n"
          ]
        }
      ],
      "source": [
        "print(arr[:4])"
      ]
    },
    {
      "cell_type": "code",
      "execution_count": null,
      "id": "61601d55",
      "metadata": {
        "id": "61601d55",
        "outputId": "196648b5-f394-40d0-b661-1345bb1c6a76",
        "colab": {
          "base_uri": "https://localhost:8080/"
        }
      },
      "outputs": [
        {
          "output_type": "stream",
          "name": "stdout",
          "text": [
            "[5 6]\n"
          ]
        }
      ],
      "source": [
        "print(arr[-3:-1])"
      ]
    },
    {
      "cell_type": "markdown",
      "id": "7ab644fb",
      "metadata": {
        "id": "7ab644fb"
      },
      "source": [
        "<a name='4-1-1'></a>\n",
        "\n",
        "### Paso\n",
        "[regresar al contenido](#c1)\n",
        "\n",
        "> `arreglo[inicio:fin:paso]`"
      ]
    },
    {
      "cell_type": "code",
      "execution_count": null,
      "id": "c679f34b",
      "metadata": {
        "id": "c679f34b",
        "outputId": "d159cd2e-1fde-4b1e-febe-48023dd61d96",
        "colab": {
          "base_uri": "https://localhost:8080/"
        }
      },
      "outputs": [
        {
          "output_type": "stream",
          "name": "stdout",
          "text": [
            "[2 4]\n"
          ]
        }
      ],
      "source": [
        "arr = np.array([1, 2, 3, 4, 5, 6, 7])\n",
        "\n",
        "print(arr[1:5:2])"
      ]
    },
    {
      "cell_type": "code",
      "execution_count": null,
      "id": "8382b8ab",
      "metadata": {
        "id": "8382b8ab",
        "outputId": "85670081-6ede-48dd-e2ab-5c1475f7522d",
        "colab": {
          "base_uri": "https://localhost:8080/"
        }
      },
      "outputs": [
        {
          "output_type": "stream",
          "name": "stdout",
          "text": [
            "[1 3 5 7]\n"
          ]
        }
      ],
      "source": [
        "arr = np.array([1, 2, 3, 4, 5, 6, 7])\n",
        "\n",
        "print(arr[::2])"
      ]
    },
    {
      "cell_type": "markdown",
      "id": "014d2c2f",
      "metadata": {
        "id": "014d2c2f"
      },
      "source": [
        "<a name='4-2'></a>\n",
        "\n",
        "## Arreglos 2-D\n",
        "[regresar al contenido](#c1)"
      ]
    },
    {
      "cell_type": "code",
      "execution_count": null,
      "id": "d69fb410",
      "metadata": {
        "id": "d69fb410",
        "outputId": "449dadc3-21d2-4ebf-95dc-262cb68c509c",
        "colab": {
          "base_uri": "https://localhost:8080/"
        }
      },
      "outputs": [
        {
          "output_type": "stream",
          "name": "stdout",
          "text": [
            "[7 8 9]\n"
          ]
        }
      ],
      "source": [
        "arr = np.array([[1, 2, 3, 4, 5], [6, 7, 8, 9, 10]])\n",
        "\n",
        "print(arr[1, 1:4])"
      ]
    },
    {
      "cell_type": "code",
      "execution_count": null,
      "id": "73f603db",
      "metadata": {
        "id": "73f603db",
        "outputId": "92225002-ffa0-4e77-fe01-74d18b26a781",
        "colab": {
          "base_uri": "https://localhost:8080/"
        }
      },
      "outputs": [
        {
          "output_type": "stream",
          "name": "stdout",
          "text": [
            "[3 8]\n"
          ]
        }
      ],
      "source": [
        "arr = np.array([[1, 2, 3, 4, 5], [6, 7, 8, 9, 10]])\n",
        "\n",
        "print(arr[0:2, 2])"
      ]
    },
    {
      "cell_type": "code",
      "execution_count": null,
      "id": "f059a5a0",
      "metadata": {
        "id": "f059a5a0",
        "outputId": "3d247a10-f547-45f8-ca61-94acf978fa58",
        "colab": {
          "base_uri": "https://localhost:8080/"
        }
      },
      "outputs": [
        {
          "output_type": "stream",
          "name": "stdout",
          "text": [
            "[[2 3 4]\n",
            " [7 8 9]]\n"
          ]
        }
      ],
      "source": [
        "arr = np.array([[1, 2, 3, 4, 5], [6, 7, 8, 9, 10]])\n",
        "\n",
        "print(arr[0:2, 1:4])"
      ]
    },
    {
      "cell_type": "markdown",
      "id": "202b7434",
      "metadata": {
        "id": "202b7434"
      },
      "source": [
        "<a name='5'></a>\n",
        "\n",
        "# Buscando en arreglos\n",
        "[regresar al contenido](#c1)\n",
        "\n",
        "Puedes buscar un valor específico en un array y obtener los índices que coinciden con ese valor.\n",
        "\n",
        "Para buscar en un array, utiliza el método `where()`. El método `where()` de NumPy te permite buscar elementos que cumplan con ciertas condiciones y devuelve los índices donde se encuentran esos elementos."
      ]
    },
    {
      "cell_type": "code",
      "execution_count": null,
      "id": "1ea1a138",
      "metadata": {
        "id": "1ea1a138",
        "outputId": "e5c9cd96-a794-44f6-9dc7-f7d9a8ad648f",
        "colab": {
          "base_uri": "https://localhost:8080/"
        }
      },
      "outputs": [
        {
          "output_type": "stream",
          "name": "stdout",
          "text": [
            "(array([3, 5, 6]),)\n"
          ]
        }
      ],
      "source": [
        "arr = np.array([1, 2, 3, 4, 5, 4, 4])\n",
        "\n",
        "x = np.where(arr == 4)\n",
        "\n",
        "print(x)"
      ]
    },
    {
      "cell_type": "code",
      "execution_count": null,
      "id": "fc453229",
      "metadata": {
        "id": "fc453229",
        "outputId": "ca1d2145-302b-4670-ed66-2a4e67f9787e",
        "colab": {
          "base_uri": "https://localhost:8080/"
        }
      },
      "outputs": [
        {
          "output_type": "stream",
          "name": "stdout",
          "text": [
            "(array([1, 3, 5, 7]),)\n"
          ]
        }
      ],
      "source": [
        "arr = np.array([1, 2, 3, 4, 5, 6, 7, 8])\n",
        "\n",
        "x = np.where(arr%2 == 0)\n",
        "\n",
        "print(x)"
      ]
    },
    {
      "cell_type": "markdown",
      "id": "872ad064",
      "metadata": {
        "id": "872ad064"
      },
      "source": [
        "Existe un método llamado `searchsorted()` que realiza una búsqueda binaria en el array y devuelve el índice donde se insertaría el valor especificado para mantener el orden de búsqueda.\n",
        "\n",
        "Se asume que el método `searchsorted()` se utiliza en arrays ordenados, ya que se basa en la búsqueda binaria, que funciona eficientemente en datos ordenados."
      ]
    },
    {
      "cell_type": "code",
      "execution_count": null,
      "id": "d6435014",
      "metadata": {
        "id": "d6435014",
        "outputId": "5104f008-6ce4-4c39-ab43-a7896a798d24",
        "colab": {
          "base_uri": "https://localhost:8080/"
        }
      },
      "outputs": [
        {
          "output_type": "stream",
          "name": "stdout",
          "text": [
            "1\n"
          ]
        }
      ],
      "source": [
        "arr = np.array([6, 7, 8, 9])\n",
        "\n",
        "x = np.searchsorted(arr, 7)\n",
        "\n",
        "print(x)"
      ]
    },
    {
      "cell_type": "markdown",
      "id": "9122d7de",
      "metadata": {
        "id": "9122d7de"
      },
      "source": [
        "De forma predeterminada, se devuelve el índice más a la izquierda al buscar un valor en un array, pero podemos especificar `side='right'` para obtener en su lugar el índice más a la derecha."
      ]
    },
    {
      "cell_type": "code",
      "execution_count": null,
      "id": "80e59184",
      "metadata": {
        "id": "80e59184",
        "outputId": "adcffe31-0ec8-4297-d756-832aaf2d24c6",
        "colab": {
          "base_uri": "https://localhost:8080/"
        }
      },
      "outputs": [
        {
          "output_type": "stream",
          "name": "stdout",
          "text": [
            "2\n"
          ]
        }
      ],
      "source": [
        "arr = np.array([6, 7, 8, 9])\n",
        "\n",
        "x = np.searchsorted(arr, 7, side='right')\n",
        "\n",
        "print(x)"
      ]
    },
    {
      "cell_type": "code",
      "execution_count": null,
      "id": "46398bfb",
      "metadata": {
        "id": "46398bfb",
        "outputId": "4eaa021d-ff08-44e6-e230-695d0bd4be51",
        "colab": {
          "base_uri": "https://localhost:8080/"
        }
      },
      "outputs": [
        {
          "output_type": "stream",
          "name": "stdout",
          "text": [
            "[1 2 3]\n"
          ]
        }
      ],
      "source": [
        "arr = np.array([1, 3, 5, 7])\n",
        "\n",
        "x = np.searchsorted(arr, [2, 4, 6])\n",
        "\n",
        "print(x)"
      ]
    },
    {
      "cell_type": "markdown",
      "id": "1515cade",
      "metadata": {
        "id": "1515cade"
      },
      "source": [
        "<a name='6'></a>\n",
        "\n",
        "# Filtrado\n",
        "[regresar al contenido](#c1)"
      ]
    },
    {
      "cell_type": "code",
      "execution_count": null,
      "id": "5a5e4666",
      "metadata": {
        "id": "5a5e4666",
        "outputId": "96634361-1f1d-433d-fea3-71d4500f476e",
        "colab": {
          "base_uri": "https://localhost:8080/"
        }
      },
      "outputs": [
        {
          "output_type": "stream",
          "name": "stdout",
          "text": [
            "[False False  True  True]\n",
            "[43 44]\n"
          ]
        }
      ],
      "source": [
        "arr = np.array([41, 42, 43, 44])\n",
        "\n",
        "filter_arr = arr > 42\n",
        "\n",
        "newarr = arr[filter_arr]\n",
        "\n",
        "print(filter_arr)\n",
        "print(newarr)"
      ]
    },
    {
      "cell_type": "code",
      "execution_count": null,
      "id": "c4c4b7a9",
      "metadata": {
        "id": "c4c4b7a9",
        "outputId": "1c63964b-6101-438a-db25-2502c87ffdc0",
        "colab": {
          "base_uri": "https://localhost:8080/"
        }
      },
      "outputs": [
        {
          "output_type": "stream",
          "name": "stdout",
          "text": [
            "[False  True False  True False  True False]\n",
            "[2 4 6]\n"
          ]
        }
      ],
      "source": [
        "arr = np.array([1, 2, 3, 4, 5, 6, 7])\n",
        "\n",
        "filter_arr = arr % 2 == 0\n",
        "\n",
        "newarr = arr[filter_arr]\n",
        "\n",
        "print(filter_arr)\n",
        "print(newarr)"
      ]
    }
  ],
  "metadata": {
    "kernelspec": {
      "display_name": "Python 3 (ipykernel)",
      "language": "python",
      "name": "python3"
    },
    "language_info": {
      "codemirror_mode": {
        "name": "ipython",
        "version": 3
      },
      "file_extension": ".py",
      "mimetype": "text/x-python",
      "name": "python",
      "nbconvert_exporter": "python",
      "pygments_lexer": "ipython3",
      "version": "3.9.12"
    },
    "colab": {
      "provenance": [],
      "include_colab_link": true
    }
  },
  "nbformat": 4,
  "nbformat_minor": 5
}