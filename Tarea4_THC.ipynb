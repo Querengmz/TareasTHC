{
  "nbformat": 4,
  "nbformat_minor": 0,
  "metadata": {
    "colab": {
      "provenance": [],
      "include_colab_link": true
    },
    "kernelspec": {
      "name": "python3",
      "display_name": "Python 3"
    },
    "language_info": {
      "name": "python"
    }
  },
  "cells": [
    {
      "cell_type": "markdown",
      "metadata": {
        "id": "view-in-github",
        "colab_type": "text"
      },
      "source": [
        "<a href=\"https://colab.research.google.com/github/Querengmz/TareasTHC/blob/main/Tarea4_THC.ipynb\" target=\"_parent\"><img src=\"https://colab.research.google.com/assets/colab-badge.svg\" alt=\"Open In Colab\"/></a>"
      ]
    },
    {
      "cell_type": "markdown",
      "source": [
        "<font color=\"Red\" face=\"Comic Sans MS,arial\">\n",
        "  <h1 align=\"center\"><i>Tarea 4 de Python </i></h1>\n",
        "  </font>\n",
        "  \n",
        "> Elaborado por:\n",
        "\n",
        "> Miguel Ángel Carrillo Lucía. miguelcarrillo15@ciencias.unam.mx\n",
        "\n",
        "> Jesús Iván Coss Calderón. mat_ing_coss@ciencias.unam.mx"
      ],
      "metadata": {
        "id": "Acw5GbRohNTA"
      }
    },
    {
      "cell_type": "markdown",
      "source": [
        "**Objetivo general**\n",
        "\n",
        "* Demostrar los conocimientos adquiridos de bucles, listas y estructuras de control.\n",
        "\n",
        "**Objetivos particulares**\n",
        "\n",
        "* Aprender a resolver problemas prácticos usando python"
      ],
      "metadata": {
        "id": "-4IW6Nx2jBHt"
      }
    },
    {
      "cell_type": "markdown",
      "source": [
        "#**Ejercicio 1**:\n",
        "Diseña un programa que convierta dólares americanos a pesos mexicanos, euros, libras\n",
        "esterlinas, yuanes y rublos utilizando una tasa de cambio fija. Muestre la tasa de cambio e imprima los cinco resultados.\n"
      ],
      "metadata": {
        "id": "QZ7aCHF0TYtT"
      }
    },
    {
      "cell_type": "code",
      "source": [
        "dolares= 54\n",
        "pesos= dolares*19.95 #Conversion a pesos\n",
        "euros= dolares*0.93 #Conversion a euros\n",
        "libras_esterlinas= dolares*0.77 #Conversion a libras esterlinas\n",
        "yuanes= dolares*7.12 #Conversion a yuanes\n",
        "rublos= dolares*97.25 #Conversion a rublos\n",
        "print(str(dolares) +\" dolares \"+ \"equivale a \"+ str(pesos)+ \" pesos mexicanos\")\n",
        "print(str(dolares) +\" dolares \"+ \"equivale a \"+ str(euros)+ \" euros\")\n",
        "print(str(dolares) +\" dolares \"+ \"equivale a \"+ str(libras_esterlinas)+ \" libras esterlinas\")\n",
        "print(str(dolares) +\" dolares \"+ \"equivale a \"+ str(yuanes)+ \" yuanes\")\n",
        "print(str(dolares) +\" dolares \"+ \"equivale a \"+ str(rublos)+ \" rublos\")"
      ],
      "metadata": {
        "id": "TBR-3raL8Epc",
        "outputId": "993d9d68-2202-4050-8022-0fedb2cefe4d",
        "colab": {
          "base_uri": "https://localhost:8080/"
        }
      },
      "execution_count": 4,
      "outputs": [
        {
          "output_type": "stream",
          "name": "stdout",
          "text": [
            "54 dolares equivale a 1077.3 pesos mexicanos\n",
            "54 dolares equivale a 50.220000000000006 euros\n",
            "54 dolares equivale a 41.58 libras esterlinas\n",
            "54 dolares equivale a 384.48 yuanes\n",
            "54 dolares equivale a 5251.5 rublos\n"
          ]
        }
      ]
    },
    {
      "cell_type": "markdown",
      "source": [
        "#**Ejercicio 2**:\n",
        "Escribe un programa que pida al usuario su edad y clasifique la entrada en 'niño',\n",
        " 'adolescente', 'adulto' o 'adulto mayor'."
      ],
      "metadata": {
        "id": "G-aCihICT7hi"
      }
    },
    {
      "cell_type": "code",
      "source": [
        "edad=int(input(\"Introduzca su edad:\"))\n",
        "if 0< edad <12: #Rango de edad de un niño\n",
        " print(\"Niño\")\n",
        "elif 12<= edad <18: #Rango de edad de un adolescente\n",
        " print(\"Adolescente\")\n",
        "elif 18<= edad <65: #Rango de edad de un adulto\n",
        " print(\"Adulto\")\n",
        "else: #Si el número es mayor a 65 emtonces es adulto mayor\n",
        " print(\"Adulto mayor\")"
      ],
      "metadata": {
        "id": "LeEsrq4p8FOs",
        "outputId": "1e4cea4b-2262-4098-9fbe-21b1ff1730f3",
        "colab": {
          "base_uri": "https://localhost:8080/"
        }
      },
      "execution_count": 6,
      "outputs": [
        {
          "output_type": "stream",
          "name": "stdout",
          "text": [
            "Introduzca su edad:18\n",
            "Adulto\n"
          ]
        }
      ]
    },
    {
      "cell_type": "markdown",
      "source": [
        "#**Ejercicio 3**:\n",
        "Desarrolla un programa que calcule el precio final de un producto después de aplicar un descuento.\n",
        " El usuario debe ingresar el precio original y el porcentaje de descuento. Imprima el precio final."
      ],
      "metadata": {
        "id": "oM_h9APNTIW9"
      }
    },
    {
      "cell_type": "code",
      "source": [
        "precio= float(input(\"Introduzca el precio:\"))\n",
        "descuento= float(input(\"Introduzca el descuento:\"))\n",
        "precio_final= precio*(descuento/100)\n",
        "print(\"El precio final es \"+ str(precio_final))"
      ],
      "metadata": {
        "id": "ay0KWLXf8F5k",
        "outputId": "c8372748-832b-41d2-bf6c-c55436508d85",
        "colab": {
          "base_uri": "https://localhost:8080/"
        }
      },
      "execution_count": 8,
      "outputs": [
        {
          "output_type": "stream",
          "name": "stdout",
          "text": [
            "Introduzca el precio:100\n",
            "Introduzca el descuento:10\n",
            "El precio final es 10.0\n"
          ]
        }
      ]
    },
    {
      "cell_type": "markdown",
      "source": [
        "#**Ejercicio 4**:\n",
        "Crea un script que determine cuál de tres números introducidos por el usuario es el mayor,\n",
        "usando sentencias IF anidadas o múltiples ELIF."
      ],
      "metadata": {
        "id": "pXTw_US7UIhy"
      }
    },
    {
      "cell_type": "code",
      "source": [
        "num_1= int(input(\"Introduce el primer número \"))\n",
        "num_2= int(input(\"Introduce el segundo número \"))\n",
        "num_3= int(input(\"Introduce el tercer número \"))\n",
        "if num_1 > num_2 > num_3:\n",
        "    print(\"El número mayor es \"+ str(num_1))\n",
        "elif num_2 > num_1 > num_3:\n",
        "     print(\"El número mayor es \"+ str(num_2))\n",
        "elif num_3 > num_1 > num_2:\n",
        "     print(\"El número mayor es \"+ str(num_3))\n",
        "elif num_1 == num_2 < num_3:\n",
        "     print(\"El número mayor es \"+ str(num_3))\n",
        "elif num_1 == num_3 < num_2:\n",
        "     print(\"El número mayor es \"+ str(num_2))\n",
        "elif num_2 == num_3 < num_1:\n",
        "     print(\"El número mayor es \"+ str(num_1))\n",
        "else:\n",
        "    print(\"Los números son iguales\")\n"
      ],
      "metadata": {
        "id": "oSJXRXBb8Gck",
        "outputId": "c74d3900-f7af-4bb0-90f8-55adb0339906",
        "colab": {
          "base_uri": "https://localhost:8080/"
        }
      },
      "execution_count": 46,
      "outputs": [
        {
          "output_type": "stream",
          "name": "stdout",
          "text": [
            "Introduce el primer número 9\n",
            "Introduce el segundo número 0\n",
            "Introduce el tercer número 7\n",
            "Los números son iguales\n"
          ]
        }
      ]
    },
    {
      "cell_type": "markdown",
      "source": [
        "#**Ejercicio 5**:\n",
        "Programe una función que resuelva ecuaciones de segundo grado utilizando la fórmula general.\n",
        "El usuario debe ingresar los valores de a, b y c. Genere valores por default por si el usuario no ingresa\n",
        "un número entero o flotante. Además, calcule el valor del discriminante\n",
        "(b^2 - 4ac) y determine si tiene soluciones reales, soluciones complejas. Imprima el resultado."
      ],
      "metadata": {
        "id": "LJgQNYz1Tmaj"
      }
    },
    {
      "cell_type": "code",
      "source": [
        "\n"
      ],
      "metadata": {
        "id": "L1CQPnlC8G9c"
      },
      "execution_count": null,
      "outputs": []
    },
    {
      "cell_type": "markdown",
      "source": [
        "#**Ejercicio 6**\n",
        "\n",
        " Escriba una función que reciba una lista de números y devuelva dos listas: una con los números positivos y otra con los negativos."
      ],
      "metadata": {
        "id": "1VC6sG1wix_2"
      }
    },
    {
      "cell_type": "code",
      "source": [
        "def separar_positivos_negativos(numeros):\n",
        "    positivos = []\n",
        "    negativos = []\n",
        "\n",
        "    for numero in numeros:\n",
        "        if numero > 0:\n",
        "            positivos.append(numero)\n",
        "        elif numero < 0:\n",
        "            negativos.append(numero)\n",
        "\n",
        "    return positivos, negativos\n",
        "\n",
        "numeros = [4, 5, -8, -3, 7, -1, 0, 8, -6] #Llamada a la función\n",
        "positivos, negativos = separar_positivos_negativos(numeros)\n",
        "print(\"Positivos:\", positivos)\n",
        "print(\"Negativos:\", negativos)"
      ],
      "metadata": {
        "id": "j-nKpLKG8HdU",
        "outputId": "1e91e8d5-0c5e-46c2-88bf-3a7c96a6c5c3",
        "colab": {
          "base_uri": "https://localhost:8080/"
        }
      },
      "execution_count": 35,
      "outputs": [
        {
          "output_type": "stream",
          "name": "stdout",
          "text": [
            "Positivos: [4, 5, 7, 8]\n",
            "Negativos: [-8, -3, -1, -6]\n"
          ]
        }
      ]
    },
    {
      "cell_type": "markdown",
      "source": [
        "#**Ejercicio 7**\n",
        "\n",
        "Escriba una función que reciba una lista de datos (la de abajo) y devuelva listas con los datos filtrados. Este programa debe separar los datos en **int**, **str**, **bool**, **float**. **Hint**: use la función **append** para insertar datos en las listas."
      ],
      "metadata": {
        "id": "B3DOqZgpjxMf"
      }
    },
    {
      "cell_type": "code",
      "source": [
        "Datos= [5, 2.4, \"hola\", 7, 10, 3.14,True,False, \"Hi\", 0, 0.265]# lista a usar"
      ],
      "metadata": {
        "id": "5zQMRLNYis12"
      },
      "execution_count": null,
      "outputs": []
    },
    {
      "cell_type": "code",
      "source": [
        "def separar_por_tipo(datos):\n",
        "  # Inicializamos listas vacías para cada tipo de dato\n",
        "    enteros = []\n",
        "    cadenas = []\n",
        "    booleanos = []\n",
        "    flotantes = []\n",
        "\n",
        "    for dato in datos:\n",
        "        if type(dato) == int:\n",
        "            enteros.append(dato)\n",
        "        elif type(dato) == str:\n",
        "            cadenas.append(dato)\n",
        "        elif type(dato) == bool:\n",
        "            booleanos.append(dato)\n",
        "        elif type(dato) == float:\n",
        "            flotantes.append(dato)\n",
        "\n",
        "    return enteros, cadenas, booleanos, flotantes\n",
        "\n",
        "# Llamamos a la función y guardamos las listas separadas en variables\n",
        "datos = [5, 2.4, \"hola\", 7, 10, 3.14,True,False, \"Hi\", 0, 0.265]\n",
        "enteros, cadenas, booleanos, flotantes = separar_por_tipo(datos)\n",
        "\n",
        "print(\"Enteros:\", enteros)\n",
        "print(\"Cadenas:\", cadenas)\n",
        "print(\"Booleanos:\", booleanos)\n",
        "print(\"Flotantes:\", flotantes)\n"
      ],
      "metadata": {
        "id": "0HH0Debs8Joc",
        "outputId": "f07e4a72-746c-4a1d-fa14-20be6b276d84",
        "colab": {
          "base_uri": "https://localhost:8080/"
        }
      },
      "execution_count": 40,
      "outputs": [
        {
          "output_type": "stream",
          "name": "stdout",
          "text": [
            "Enteros: [5, 7, 10, 0]\n",
            "Cadenas: ['hola', 'Hi']\n",
            "Booleanos: [True, False]\n",
            "Flotantes: [2.4, 3.14, 0.265]\n"
          ]
        }
      ]
    },
    {
      "cell_type": "markdown",
      "source": [
        "#**Ejercicio 8**:\n",
        "\n",
        "Imprimir pirámide de asteriscos\n",
        "Descripción: Crea una función que imprima una pirámide de asteriscos usando bucles anidados, donde el número de niveles de la pirámide sea un valor dado."
      ],
      "metadata": {
        "id": "Q7XYGpfGkuD4"
      }
    },
    {
      "cell_type": "code",
      "source": [
        "def piramide_asteriscos(niveles):\n",
        "\n",
        "piramide_asteriscos(5)\n",
        "# Resultado:\n",
        "# *\n",
        "# **\n",
        "# ***\n",
        "# ****\n",
        "# *****\n"
      ],
      "metadata": {
        "colab": {
          "base_uri": "https://localhost:8080/"
        },
        "id": "lKlZ67KRkXwn",
        "outputId": "78bd0f90-baf8-41bc-9243-ffad50b18531"
      },
      "execution_count": null,
      "outputs": [
        {
          "output_type": "stream",
          "name": "stdout",
          "text": [
            "*\n",
            "**\n",
            "***\n",
            "****\n",
            "*****\n"
          ]
        }
      ]
    },
    {
      "cell_type": "markdown",
      "source": [
        "#**Ejercicio 9**:\n",
        "\n",
        "Escriba una función que calcule el factorial de un número, el cual debe ser ingresado por el usuario, después usted debe validar que sea un número natural mayor o igual a cero y en caso de que ingrese un número negativo, una letra o cadena, debe pedir nuevamente el número al usuario."
      ],
      "metadata": {
        "id": "xL6YMsdClOy9"
      }
    },
    {
      "cell_type": "code",
      "source": [
        "def calcular_factorial():\n",
        "\n",
        "    while True:\n",
        "\n",
        "        entrada = input(\"Ingrese un número natural (mayor o igual a 0) para calcular su factorial: \")\n",
        "\n",
        "        # Intentamos convertir la entrada a un número entero\n",
        "        try:\n",
        "            numero = int(entrada)\n",
        "\n",
        "\n",
        "            if numero < 0:\n",
        "                print(\"El número debe ser un natural (mayor o igual a 0). Inténtelo de nuevo.\")\n",
        "                continue  # Volvemos al inicio del bucle para pedir otro número\n",
        "\n",
        "\n",
        "            factorial = 1\n",
        "\n",
        "            # Usamos un bucle para multiplicar todos los números de 1 hasta el número ingresado\n",
        "            for i in range(1, numero + 1):\n",
        "                factorial *= i\n",
        "\n",
        "\n",
        "            print(f\"El factorial de {numero} es: {factorial}\")\n",
        "            break  # Terminamos el bucle porque ya obtuvimos el resultado\n",
        "\n",
        "        # Si ocurre un error en la conversión, mostramos un mensaje\n",
        "        except ValueError:\n",
        "            print(\"Entrada no válida. Debe ingresar un número entero. Inténtelo de nuevo.\")\n",
        "\n",
        "# Llamamos a la función para probarla\n",
        "calcular_factorial()\n"
      ],
      "metadata": {
        "id": "JYhyNp21l43j",
        "outputId": "bfa64156-3825-401b-a0c7-218dd8a95357",
        "colab": {
          "base_uri": "https://localhost:8080/"
        }
      },
      "execution_count": 48,
      "outputs": [
        {
          "output_type": "stream",
          "name": "stdout",
          "text": [
            "Ingrese un número natural (mayor o igual a 0) para calcular su factorial: a\n",
            "Entrada no válida. Debe ingresar un número entero. Inténtelo de nuevo.\n",
            "Ingrese un número natural (mayor o igual a 0) para calcular su factorial: o\n",
            "Entrada no válida. Debe ingresar un número entero. Inténtelo de nuevo.\n",
            "Ingrese un número natural (mayor o igual a 0) para calcular su factorial: 1\n",
            "El factorial de 1 es: 1\n"
          ]
        }
      ]
    },
    {
      "cell_type": "markdown",
      "source": [
        "#**Ejercicio 10**:\n",
        "Programar una función que calcule la distancia entre dos puntos en el plano cartesiano,\n",
        "dadas sus coordenadas (x1, y1) y (x2, y2)."
      ],
      "metadata": {
        "id": "8z6e_aduTxWh"
      }
    },
    {
      "cell_type": "code",
      "source": [],
      "metadata": {
        "id": "rKes7ySm8LJy"
      },
      "execution_count": null,
      "outputs": []
    },
    {
      "cell_type": "markdown",
      "source": [
        "#**Ejercicio 11**:\n",
        "Programe un script que determine si dos rectas dadas por las ecuaciones y1=m1x + b1 y y2=m2x+b2 se\n",
        "intersectan, son paralelas o coincidentes. Utilice estructuras de control (IF - ELSE)\n",
        "para manejar los diferentes casos.\n"
      ],
      "metadata": {
        "id": "YZ1CmeGNUfd6"
      }
    },
    {
      "cell_type": "code",
      "source": [],
      "metadata": {
        "id": "oTNVz98W8LuZ"
      },
      "execution_count": null,
      "outputs": []
    },
    {
      "cell_type": "markdown",
      "source": [
        "#**Ejercicio 12**:\n",
        "Iván y Miguel quieren jugar a los dados con las siguientes reglas:\n",
        "\n",
        "    Si sale 1, vuelven a lanzar.\n",
        "    Si sale 6, quedan empatados.\n",
        "    Si sale 2 ó 3 gana Iván.\n",
        "    Si sale 4 ó 5 gana Miguel.\n",
        "\n",
        "Haga un programa que le permita jugar a Iván y Miguel utilizando el condicional while. Se debe imprimir el mensaje de acuerdo a las reglas establecidas.\n",
        "**Hint** = Utilice la librería random para generar los números aleatorios."
      ],
      "metadata": {
        "id": "qdHirPx6I2ib"
      }
    },
    {
      "cell_type": "code",
      "source": [],
      "metadata": {
        "id": "dDHP_-CG8Nqg"
      },
      "execution_count": null,
      "outputs": []
    }
  ]
}