{
  "nbformat": 4,
  "nbformat_minor": 0,
  "metadata": {
    "colab": {
      "provenance": [],
      "authorship_tag": "ABX9TyObvlIYR6RV7WT5v4QtMq5b",
      "include_colab_link": true
    },
    "kernelspec": {
      "name": "python3",
      "display_name": "Python 3"
    },
    "language_info": {
      "name": "python"
    }
  },
  "cells": [
    {
      "cell_type": "markdown",
      "metadata": {
        "id": "view-in-github",
        "colab_type": "text"
      },
      "source": [
        "<a href=\"https://colab.research.google.com/github/Querengmz/TareasTHC/blob/main/THC_QUEREN_TAREA3.ipynb\" target=\"_parent\"><img src=\"https://colab.research.google.com/assets/colab-badge.svg\" alt=\"Open In Colab\"/></a>"
      ]
    },
    {
      "cell_type": "markdown",
      "source": [
        "*VARIABLES*\n",
        "\n",
        "Ejercicio 1 Calculadora Simple"
      ],
      "metadata": {
        "id": "MuY9HbDkAdU9"
      }
    },
    {
      "cell_type": "code",
      "execution_count": 14,
      "metadata": {
        "colab": {
          "base_uri": "https://localhost:8080/"
        },
        "id": "3BLvq8pK_96s",
        "outputId": "97e97877-c601-4b87-e831-846c0a5e5ceb"
      },
      "outputs": [
        {
          "output_type": "stream",
          "name": "stdout",
          "text": [
            "15\n",
            "5\n",
            "50\n",
            "2\n"
          ]
        }
      ],
      "source": [
        "x= 10\n",
        "y= 5\n",
        "suma= x+y\n",
        "resta= x-y\n",
        "multiplicación= x*y\n",
        "división= x//y\n",
        "print(suma)\n",
        "print(resta)\n",
        "print(multiplicación)\n",
        "print(división)"
      ]
    },
    {
      "cell_type": "markdown",
      "source": [
        "Ejercico 2 Conversión de Temperaturas"
      ],
      "metadata": {
        "id": "5nZHTEPhAcLz"
      }
    },
    {
      "cell_type": "code",
      "source": [
        "Celsius = 31\n",
        "Fahrenheit = (Celsius*9/5) + 32\n",
        "print(Fahrenheit)"
      ],
      "metadata": {
        "colab": {
          "base_uri": "https://localhost:8080/"
        },
        "id": "KTk7o-AgAaSS",
        "outputId": "51bb00fa-a940-4afb-f4e2-b76d0e58b14d"
      },
      "execution_count": 16,
      "outputs": [
        {
          "output_type": "stream",
          "name": "stdout",
          "text": [
            "87.8\n"
          ]
        }
      ]
    },
    {
      "cell_type": "markdown",
      "source": [
        "Ejercicio 4 Contador de Palabras"
      ],
      "metadata": {
        "id": "YJviIzV6DL1z"
      }
    },
    {
      "cell_type": "code",
      "source": [
        "word= \"Parangaricutirimicuaro\"\n",
        "contador= len(word)\n",
        "print(contador)"
      ],
      "metadata": {
        "colab": {
          "base_uri": "https://localhost:8080/"
        },
        "id": "6kknxF6cDOeY",
        "outputId": "3825d0ed-aab8-4459-9162-d42ade123dbc"
      },
      "execution_count": 17,
      "outputs": [
        {
          "output_type": "stream",
          "name": "stdout",
          "text": [
            "22\n"
          ]
        }
      ]
    },
    {
      "cell_type": "markdown",
      "source": [
        "Ejercicio 6 Cálculo del *Promedio*"
      ],
      "metadata": {
        "id": "F8B2YXnhDbnU"
      }
    },
    {
      "cell_type": "code",
      "source": [
        "x=[10,7,9,10,5]\n",
        "sum(x)\n",
        "promedio= sum(x)/len(x)\n",
        "print(promedio)"
      ],
      "metadata": {
        "colab": {
          "base_uri": "https://localhost:8080/"
        },
        "id": "rd36DvxfDjzY",
        "outputId": "9017de9c-3aff-4093-8f0e-82a53cd2d8cf"
      },
      "execution_count": 19,
      "outputs": [
        {
          "output_type": "stream",
          "name": "stdout",
          "text": [
            "8.2\n"
          ]
        }
      ]
    },
    {
      "cell_type": "markdown",
      "source": [
        "Ejercicio 10 Registro de Estudiantes"
      ],
      "metadata": {
        "id": "wOE7oQqiDmEG"
      }
    },
    {
      "cell_type": "code",
      "source": [
        "Estudiantes= [\"Ana\", \"Ximena\",\"Queren\"]\n",
        "Acalif= [10,6,7]\n",
        "Xcalif= [8,9,6]\n",
        "Qcalif= [10,10,10]\n",
        "promedio1= sum(Acalif)/len(Acalif)\n",
        "promedio2= sum(Xcalif)/len(Xcalif)\n",
        "promedio3= sum(Qcalif)/len(Qcalif)\n",
        "print(promedio1)\n",
        "print(promedio2)\n",
        "print(promedio3)"
      ],
      "metadata": {
        "colab": {
          "base_uri": "https://localhost:8080/"
        },
        "id": "VcgWHh78Dttm",
        "outputId": "59135dd2-9eb2-4adf-b2e5-782e95090c8f"
      },
      "execution_count": 14,
      "outputs": [
        {
          "output_type": "stream",
          "name": "stdout",
          "text": [
            "7.666666666666667\n",
            "7.666666666666667\n",
            "10.0\n"
          ]
        }
      ]
    },
    {
      "cell_type": "markdown",
      "source": [
        "*SINTAXIS*\n",
        "\n",
        "Ejercicio 2 Comentarios Descriptivos"
      ],
      "metadata": {
        "id": "wMjMt8CxQUIm"
      }
    },
    {
      "cell_type": "code",
      "source": [
        "numero= 8 #agrgamos el número del que queremos hacer la tabla de multiplicar\n",
        "for i in range(1,11): #asignamos de que a que número queremos la tabla\n",
        "  tabla= 8*i #especificamos que el numero que elegimos se multplique con todos numeros\n",
        "  print(tabla)"
      ],
      "metadata": {
        "colab": {
          "base_uri": "https://localhost:8080/"
        },
        "id": "lBiuFmWOQjxY",
        "outputId": "0d40d263-8d80-4e2c-d105-7054fdf7a7a4"
      },
      "execution_count": 3,
      "outputs": [
        {
          "output_type": "stream",
          "name": "stdout",
          "text": [
            "8\n",
            "16\n",
            "24\n",
            "32\n",
            "40\n",
            "48\n",
            "56\n",
            "64\n",
            "72\n",
            "80\n"
          ]
        }
      ]
    },
    {
      "cell_type": "markdown",
      "source": [
        "Ejercicio 3 Comentarios Informativos"
      ],
      "metadata": {
        "id": "0JVfs8RjQkR1"
      }
    },
    {
      "cell_type": "code",
      "source": [
        "numero= 6 #ponemos un número cualquiera\n",
        "if numero %2==0: #la definición de un numero par es que si lo dividimos entre 2 el residuo es cero\n",
        " print(str(numero) +\" es un número par\") #el str() es para poder escribir el número"
      ],
      "metadata": {
        "colab": {
          "base_uri": "https://localhost:8080/"
        },
        "id": "c5vjdnUwRAh2",
        "outputId": "2fa6b507-d7ff-4079-bc02-939b0dd68664"
      },
      "execution_count": 9,
      "outputs": [
        {
          "output_type": "stream",
          "name": "stdout",
          "text": [
            "6 es un número par\n"
          ]
        }
      ]
    },
    {
      "cell_type": "markdown",
      "source": [
        "Ejercicio 6 Creación de un Programa con Comentarios de Uso"
      ],
      "metadata": {
        "id": "ddAh77uURA-9"
      }
    },
    {
      "cell_type": "code",
      "source": [
        "millas= 602 # lo unico que hay que hacer es agregar una distancia en millas\n",
        "kilometros= millas*1.60934\n",
        "print(kilometros)"
      ],
      "metadata": {
        "colab": {
          "base_uri": "https://localhost:8080/"
        },
        "id": "geFG_S6j4evc",
        "outputId": "cc68375d-f911-420e-be16-6d8e12571cea"
      },
      "execution_count": 10,
      "outputs": [
        {
          "output_type": "stream",
          "name": "stdout",
          "text": [
            "968.82268\n"
          ]
        }
      ]
    }
  ]
}